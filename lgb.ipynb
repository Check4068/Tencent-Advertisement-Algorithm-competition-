{
 "cells": [
  {
   "cell_type": "code",
   "execution_count": null,
   "metadata": {},
   "outputs": [],
   "source": []
  },
  {
   "cell_type": "code",
   "execution_count": 5,
   "metadata": {},
   "outputs": [
    {
     "name": "stdout",
     "output_type": "stream",
     "text": [
      "best n_estimators: [0.9551672176827631, 0.9617357007040445, 0.9629886484974104, 0.9645678948901107, 0.9681745950174442, 0.9716901919134819, 0.9727181652591488, 0.9752238324454264, 0.976752545237565, 0.9769698111699242, 0.9771565856416056, 0.9776069913379128, 0.977047296024119, 0.977689957803016, 0.9790621877337535, 0.9798093427205921, 0.9794980329010855, 0.9798045463110473, 0.9802630602234899, 0.9806967355865037, 0.9813202117272214, 0.9817512604850084, 0.9817560568945533, 0.9821753430289327, 0.9830365840428023, 0.98325036686823, 0.9829163883036127, 0.9818579234972677, 0.9821927585635896, 0.9828105817930577, 0.9831266880221092, 0.9855345427137401, 0.9856521118477026, 0.9861724080830921, 0.9861806875995682, 0.9862912905196681, 0.986390987318065, 0.9861724080830921, 0.9860631184656057, 0.9862803843979648, 0.9861745778874098, 0.9863896740154512, 0.9866034568408791, 0.9872343559963686, 0.9873353660973786, 0.9871263796814956, 0.987235669298982, 0.9874459690174783, 0.9875373862993987, 0.9874328930914572, 0.9871228965745642, 0.9871111339511565, 0.9875339031924673, 0.9874459690174785, 0.9873497553260131, 0.986801993935968, 0.9871215832719507, 0.987648845721203, 0.9877725245673238, 0.987873534668334, 0.9880873174937619, 0.9881835311852271, 0.9885031205212098, 0.9880742415677407, 0.9881918107017033, 0.9880825210842168, 0.9881918107017033, 0.9883938309037236, 0.9878521792258367, 0.9886006475152886, 0.9888096339311716, 0.9888096339311716, 0.9889189235486577, 0.9889189235486577, 0.9895781443605072, 0.9892681478436142, 0.9899060132129662, 0.9900153028304526, 0.9897884440790037, 0.9898015200050247, 0.9897005099040147, 0.989809799521501, 0.989809799521501, 0.9896922303875384, 0.9894819306690421, 0.9891540618165828, 0.9893643615350793, 0.9894653716360896, 0.9892467924011168, 0.9893560820186031, 0.9896756713545859, 0.9896756713545859, 0.9896756713545859, 0.9895663817370997, 0.9894618885291582, 0.9896756713545859, 0.9895746612535758, 0.9900118197235213, 0.9901128298245313, 0.9902138399255414, 0.9902138399255414, 0.9902173230324729, 0.9901163129314628, 0.990318333133483, 0.9901128298245313, 0.9902138399255414, 0.9902138399255414, 0.9902138399255414, 0.9902138399255414, 0.9904228263414245, 0.9903135367239381, 0.9903135367239381, 0.9903052572074618, 0.9904145468249481, 0.9905238364424346, 0.9904145468249481, 0.9904145468249481, 0.9904145468249481, 0.9905238364424346, 0.9907258566444547, 0.9907258566444547, 0.9908351462619411, 0.9910454459804375, 0.9910454459804375, 0.9910454459804375, 0.9910537254969137, 0.9908434257784172, 0.9906296429529895, 0.9907306530539997, 0.9907306530539997, 0.990839942671486, 0.9908447390810308, 0.9908447390810308, 0.9908447390810308, 0.9908447390810308, 0.9908447390810308, 0.9910502423899823, 0.9910502423899823, 0.9910502423899823, 0.9910502423899823, 0.9910502423899823, 0.990940952772496, 0.990940952772496, 0.9910502423899823, 0.990940952772496, 0.990940952772496, 0.9912605421084788, 0.9912640252154101, 0.9912605421084788, 0.9910550387995272, 0.9912570590015474, 0.9912570590015474, 0.9912570590015474, 0.9911477693840611, 0.991028886947485, 0.9911298970484952, 0.991028886947485, 0.991028886947485, 0.9909278768464749, 0.991028886947485, 0.9908233836385334, 0.9909326732560197, 0.990927876846475, 0.9909326732560197, 0.9908233836385334, 0.9910323700544164, 0.9912343902564367, 0.9911381765649713, 0.9911381765649713, 0.9909278768464749, 0.9909278768464749, 0.991028886947485, 0.9909278768464749, 0.991028886947485, 0.9909195973299987, 0.9912426697729128, 0.9912426697729128, 0.9912426697729128, 0.9912426697729128, 0.9912426697729128, 0.9912426697729128, 0.9912426697729128, 0.9912426697729128, 0.9912426697729128, 0.9912426697729128, 0.9912426697729128, 0.9912426697729128, 0.9913471629808542]\n",
      "best cv score: 0.9913471629808542\n"
     ]
    }
   ],
   "source": []
  },
  {
   "cell_type": "code",
   "execution_count": 6,
   "metadata": {},
   "outputs": [
    {
     "data": {
      "text/html": [
       "<div>\n",
       "<style scoped>\n",
       "    .dataframe tbody tr th:only-of-type {\n",
       "        vertical-align: middle;\n",
       "    }\n",
       "\n",
       "    .dataframe tbody tr th {\n",
       "        vertical-align: top;\n",
       "    }\n",
       "\n",
       "    .dataframe thead th {\n",
       "        text-align: right;\n",
       "    }\n",
       "</style>\n",
       "<table border=\"1\" class=\"dataframe\">\n",
       "  <thead>\n",
       "    <tr style=\"text-align: right;\">\n",
       "      <th></th>\n",
       "      <th>creative_id</th>\n",
       "      <th>ad_id</th>\n",
       "      <th>product_id</th>\n",
       "      <th>product_category</th>\n",
       "      <th>advertiser_id</th>\n",
       "      <th>industry</th>\n",
       "    </tr>\n",
       "  </thead>\n",
       "  <tbody>\n",
       "    <tr>\n",
       "      <td>9</td>\n",
       "      <td>20</td>\n",
       "      <td>20</td>\n",
       "      <td>34647</td>\n",
       "      <td>5</td>\n",
       "      <td>312</td>\n",
       "      <td>267</td>\n",
       "    </tr>\n",
       "    <tr>\n",
       "      <td>14</td>\n",
       "      <td>27</td>\n",
       "      <td>27</td>\n",
       "      <td>59</td>\n",
       "      <td>1</td>\n",
       "      <td>62948</td>\n",
       "      <td>254</td>\n",
       "    </tr>\n",
       "    <tr>\n",
       "      <td>21</td>\n",
       "      <td>46</td>\n",
       "      <td>46</td>\n",
       "      <td>1263</td>\n",
       "      <td>1</td>\n",
       "      <td>1274</td>\n",
       "      <td>247</td>\n",
       "    </tr>\n",
       "    <tr>\n",
       "      <td>33</td>\n",
       "      <td>63</td>\n",
       "      <td>63</td>\n",
       "      <td>66</td>\n",
       "      <td>1</td>\n",
       "      <td>62928</td>\n",
       "      <td>242</td>\n",
       "    </tr>\n",
       "    <tr>\n",
       "      <td>34</td>\n",
       "      <td>65</td>\n",
       "      <td>64</td>\n",
       "      <td>4573</td>\n",
       "      <td>3</td>\n",
       "      <td>22</td>\n",
       "      <td>141</td>\n",
       "    </tr>\n",
       "  </tbody>\n",
       "</table>\n",
       "</div>"
      ],
      "text/plain": [
       "    creative_id  ad_id product_id  product_category  advertiser_id industry\n",
       "9            20     20      34647                 5            312      267\n",
       "14           27     27         59                 1          62948      254\n",
       "21           46     46       1263                 1           1274      247\n",
       "33           63     63         66                 1          62928      242\n",
       "34           65     64       4573                 3             22      141"
      ]
     },
     "execution_count": 6,
     "metadata": {},
     "output_type": "execute_result"
    }
   ],
   "source": [
    "#coding:utf-8\n",
    "\n",
    "import csv\n",
    "import os\n",
    "import shutil\n",
    "import sys\n",
    "import numpy as np\n",
    "import pandas as pd\n",
    "from sklearn.model_selection import KFold\n",
    "\n",
    "g_ad_file_name = \"/Users/check4068/Desktop/腾讯算法大赛/train_preliminary/ad.csv\"\n",
    "\n",
    "\n",
    "\n",
    "ad_data = pd.read_csv(g_ad_file_name)\n",
    "ad_data = ad_data.loc[ad_data[\"product_id\"] != \"\\\\N\"]\n",
    "ad_data = ad_data.loc[ad_data[\"industry\"] != \"\\\\N\"]\n",
    "\n",
    "ad_data.head()"
   ]
  },
  {
   "cell_type": "code",
   "execution_count": 7,
   "metadata": {},
   "outputs": [
    {
     "data": {
      "text/plain": [
       "28426543"
      ]
     },
     "execution_count": 7,
     "metadata": {},
     "output_type": "execute_result"
    }
   ],
   "source": [
    "g_click_file_name = \"/Users/check4068/Desktop/腾讯算法大赛/train_preliminary/click_log.csv\"\n",
    "\n",
    "click_data = pd.read_csv(g_click_file_name)\n",
    "click_data = click_data.loc[click_data[\"click_times\"] == 1]\n",
    "click_data.head()   \n",
    "len(click_data)"
   ]
  },
  {
   "cell_type": "code",
   "execution_count": 9,
   "metadata": {},
   "outputs": [
    {
     "data": {
      "text/html": [
       "<div>\n",
       "<style scoped>\n",
       "    .dataframe tbody tr th:only-of-type {\n",
       "        vertical-align: middle;\n",
       "    }\n",
       "\n",
       "    .dataframe tbody tr th {\n",
       "        vertical-align: top;\n",
       "    }\n",
       "\n",
       "    .dataframe thead th {\n",
       "        text-align: right;\n",
       "    }\n",
       "</style>\n",
       "<table border=\"1\" class=\"dataframe\">\n",
       "  <thead>\n",
       "    <tr style=\"text-align: right;\">\n",
       "      <th></th>\n",
       "      <th>user_id</th>\n",
       "      <th>age</th>\n",
       "      <th>gender</th>\n",
       "    </tr>\n",
       "  </thead>\n",
       "  <tbody>\n",
       "    <tr>\n",
       "      <td>0</td>\n",
       "      <td>1</td>\n",
       "      <td>4</td>\n",
       "      <td>1</td>\n",
       "    </tr>\n",
       "    <tr>\n",
       "      <td>1</td>\n",
       "      <td>2</td>\n",
       "      <td>10</td>\n",
       "      <td>1</td>\n",
       "    </tr>\n",
       "    <tr>\n",
       "      <td>2</td>\n",
       "      <td>3</td>\n",
       "      <td>7</td>\n",
       "      <td>2</td>\n",
       "    </tr>\n",
       "    <tr>\n",
       "      <td>3</td>\n",
       "      <td>4</td>\n",
       "      <td>5</td>\n",
       "      <td>1</td>\n",
       "    </tr>\n",
       "    <tr>\n",
       "      <td>4</td>\n",
       "      <td>5</td>\n",
       "      <td>4</td>\n",
       "      <td>1</td>\n",
       "    </tr>\n",
       "  </tbody>\n",
       "</table>\n",
       "</div>"
      ],
      "text/plain": [
       "   user_id  age  gender\n",
       "0        1    4       1\n",
       "1        2   10       1\n",
       "2        3    7       2\n",
       "3        4    5       1\n",
       "4        5    4       1"
      ]
     },
     "execution_count": 9,
     "metadata": {},
     "output_type": "execute_result"
    }
   ],
   "source": [
    "g_user_file_name = \"/Users/check4068/Desktop/腾讯算法大赛/train_preliminary/user.csv\"    \n",
    "user_data = pd.read_csv(g_user_file_name)\n",
    "user_data.head()"
   ]
  },
  {
   "cell_type": "code",
   "execution_count": 10,
   "metadata": {},
   "outputs": [
    {
     "data": {
      "text/plain": [
       "15376393"
      ]
     },
     "execution_count": 10,
     "metadata": {},
     "output_type": "execute_result"
    }
   ],
   "source": [
    "a = pd.merge(ad_data, click_data, on=\"creative_id\")\n",
    "\n",
    "a.head()\n",
    "len(a)"
   ]
  },
  {
   "cell_type": "code",
   "execution_count": 11,
   "metadata": {},
   "outputs": [
    {
     "data": {
      "text/plain": [
       "15376393"
      ]
     },
     "execution_count": 11,
     "metadata": {},
     "output_type": "execute_result"
    }
   ],
   "source": [
    "b = pd.merge(a, user_data, on=\"user_id\")\n",
    "b.head()\n",
    "len(b)"
   ]
  },
  {
   "cell_type": "code",
   "execution_count": 12,
   "metadata": {},
   "outputs": [
    {
     "name": "stdout",
     "output_type": "stream",
     "text": [
      "[[4 2]\n",
      " [4 2]\n",
      " [4 2]\n",
      " ...\n",
      " [5 2]\n",
      " [5 2]\n",
      " [4 2]]\n"
     ]
    }
   ],
   "source": [
    "btarget = b[['age','gender']].values\n",
    "print(btarget)\n"
   ]
  },
  {
   "cell_type": "code",
   "execution_count": 13,
   "metadata": {},
   "outputs": [
    {
     "name": "stdout",
     "output_type": "stream",
     "text": [
      "[[20 20 '34647' ... 78 827182 1]\n",
      " [967 1509 '124' ... 66 827182 1]\n",
      " [226621 203400 '23' ... 2 827182 1]\n",
      " ...\n",
      " [4443818 3810508 '9140' ... 91 425815 1]\n",
      " [4444878 3811453 '34304' ... 91 755982 1]\n",
      " [4444878 3811453 '34304' ... 91 839485 1]]\n"
     ]
    }
   ],
   "source": [
    "blabel = b[['creative_id','ad_id','product_id','product_category','advertiser_id','industry','time','user_id','click_times']].values\n",
    "print(blabel)"
   ]
  },
  {
   "cell_type": "code",
   "execution_count": 14,
   "metadata": {},
   "outputs": [],
   "source": [
    "import lightgbm as lgb\n",
    "from sklearn import datasets\n",
    "from sklearn.model_selection import train_test_split\n",
    "import numpy as np\n",
    "from sklearn.metrics import roc_auc_score, accuracy_score\n",
    "from sklearn.model_selection import KFold\n",
    "import numpy as np\n",
    "\n",
    "from sklearn.model_selection import GridSearchCV\n"
   ]
  },
  {
   "cell_type": "code",
   "execution_count": null,
   "metadata": {},
   "outputs": [],
   "source": [
    "\n",
    "# 划分训练集和测试集\n",
    "X_train, X_test, y_train, y_test = train_test_split(btarget, blabel, test_size=0.3)\n",
    "print(X_test)\n",
    "print(y_test)\n",
    "# 转换为Dataset数据格式\n",
    "train_data = lgb.Dataset(X_train, label=y_train)\n",
    "test_data = lgb.Dataset(X_test, label=y_test)\n",
    "# 参数\n",
    "params = {\n",
    "    'learning_rate': 0.1,\n",
    "    'lambda_l1': 0.1,\n",
    "    'lambda_l2': 0.2,\n",
    "    'max_depth': 5,\n",
    "    'objective': 'multiclass',  # 目标函数\n",
    "    'num_class': 3,\n",
    "}\n",
    "\n",
    "\n",
    "\n",
    "# 模型训练\n",
    "print('a')\n",
    "gbm = lgb.train(params, train_data, valid_sets=[test_data])\n",
    "\n",
    "# 模型预测\n",
    "print('b')\n",
    "y_pred = gbm.predict(X_test)\n",
    "print(y_pred)\n",
    "print('11111111111111111')\n",
    "y_pred = [list(x).index(max(x)) for x in y_pred]\n",
    "print(y_pred)\n",
    "\n",
    "# 模型评估\n",
    "print(accuracy_score(y_test, y_pred))\n"
   ]
  },
  {
   "cell_type": "code",
   "execution_count": null,
   "metadata": {},
   "outputs": [],
   "source": []
  }
 ],
 "metadata": {
  "kernelspec": {
   "display_name": "Python 3",
   "language": "python",
   "name": "python3"
  },
  "language_info": {
   "codemirror_mode": {
    "name": "ipython",
    "version": 3
   },
   "file_extension": ".py",
   "mimetype": "text/x-python",
   "name": "python",
   "nbconvert_exporter": "python",
   "pygments_lexer": "ipython3",
   "version": "3.7.3"
  }
 },
 "nbformat": 4,
 "nbformat_minor": 4
}
